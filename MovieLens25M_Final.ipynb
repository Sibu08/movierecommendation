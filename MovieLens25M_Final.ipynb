{
  "nbformat": 4,
  "nbformat_minor": 0,
  "metadata": {
    "colab": {
      "name": "MovieLens25M Final.ipynb",
      "provenance": [],
      "collapsed_sections": [
        "Uwx4HXo5KP1q",
        "cPvPxInalXiE",
        "F6-Vk2u1nVHF",
        "4RYUfx0ZoP-u",
        "olgjAviyoRSN"
      ],
      "authorship_tag": "ABX9TyNxU2EuWXeHVr0v216M3om3",
      "include_colab_link": true
    },
    "kernelspec": {
      "name": "python3",
      "display_name": "Python 3"
    }
  },
  "cells": [
    {
      "cell_type": "markdown",
      "metadata": {
        "id": "view-in-github",
        "colab_type": "text"
      },
      "source": [
        "<a href=\"https://colab.research.google.com/github/Sibu08/movierecommendation/blob/master/MovieLens25M_Final.ipynb\" target=\"_parent\"><img src=\"https://colab.research.google.com/assets/colab-badge.svg\" alt=\"Open In Colab\"/></a>"
      ]
    },
    {
      "cell_type": "code",
      "metadata": {
        "id": "j4ll_kxpbBVO",
        "colab_type": "code",
        "outputId": "fb8ee549-9229-450b-d576-5bec438db55d",
        "colab": {
          "base_uri": "https://localhost:8080/",
          "height": 121
        }
      },
      "source": [
        "from google.colab import drive\n",
        "drive.mount('/content/drive')"
      ],
      "execution_count": 0,
      "outputs": [
        {
          "output_type": "stream",
          "text": [
            "Go to this URL in a browser: https://accounts.google.com/o/oauth2/auth?client_id=947318989803-6bn6qk8qdgf4n4g3pfee6491hc0brc4i.apps.googleusercontent.com&redirect_uri=urn%3aietf%3awg%3aoauth%3a2.0%3aoob&response_type=code&scope=email%20https%3a%2f%2fwww.googleapis.com%2fauth%2fdocs.test%20https%3a%2f%2fwww.googleapis.com%2fauth%2fdrive%20https%3a%2f%2fwww.googleapis.com%2fauth%2fdrive.photos.readonly%20https%3a%2f%2fwww.googleapis.com%2fauth%2fpeopleapi.readonly\n",
            "\n",
            "Enter your authorization code:\n",
            "··········\n",
            "Mounted at /content/drive\n"
          ],
          "name": "stdout"
        }
      ]
    },
    {
      "cell_type": "code",
      "metadata": {
        "id": "OS0-v3s1bIVs",
        "colab_type": "code",
        "colab": {}
      },
      "source": [
        "import gc\n",
        "import numpy as np\n",
        "import pandas as pd\n",
        "from datetime import date\n",
        "import matplotlib.pyplot as plt\n",
        "from sklearn.metrics.pairwise import cosine_similarity\n",
        "%matplotlib inline"
      ],
      "execution_count": 0,
      "outputs": []
    },
    {
      "cell_type": "code",
      "metadata": {
        "id": "akSvMEg_bapV",
        "colab_type": "code",
        "colab": {}
      },
      "source": [
        "ratings = pd.read_csv('/content/drive/My Drive/DS Project 20M/ratings.csv')"
      ],
      "execution_count": 0,
      "outputs": []
    },
    {
      "cell_type": "code",
      "metadata": {
        "id": "HU1gRDV1buQl",
        "colab_type": "code",
        "colab": {}
      },
      "source": [
        "movies = pd.read_csv('/content/drive/My Drive/DS Project 20M/movies.csv')"
      ],
      "execution_count": 0,
      "outputs": []
    },
    {
      "cell_type": "code",
      "metadata": {
        "id": "ZmoYnqa6b8-Z",
        "colab_type": "code",
        "colab": {}
      },
      "source": [
        "total=ratings.merge(movies,on='movieId',how='inner')\n",
        "total['genres']=total['genres'].apply(lambda x: x.split('|'))"
      ],
      "execution_count": 0,
      "outputs": []
    },
    {
      "cell_type": "code",
      "metadata": {
        "id": "uzeSjNeCCsI4",
        "colab_type": "code",
        "colab": {}
      },
      "source": [
        "active_users = pd.read_csv('/content/drive/My Drive/DS Project 20M/ActiveUsers.csv')"
      ],
      "execution_count": 0,
      "outputs": []
    },
    {
      "cell_type": "code",
      "metadata": {
        "id": "SH--caeBhXfQ",
        "colab_type": "code",
        "colab": {}
      },
      "source": [
        "total = total[total.userId.isin(active_users['userId'].tolist())]"
      ],
      "execution_count": 0,
      "outputs": []
    },
    {
      "cell_type": "code",
      "metadata": {
        "id": "jnaD-6C7GzwD",
        "colab_type": "code",
        "outputId": "3c35e756-6400-4c8a-8412-7c1fe41cf184",
        "colab": {
          "base_uri": "https://localhost:8080/",
          "height": 402
        }
      },
      "source": [
        "total"
      ],
      "execution_count": 0,
      "outputs": [
        {
          "output_type": "execute_result",
          "data": {
            "text/html": [
              "<div>\n",
              "<style scoped>\n",
              "    .dataframe tbody tr th:only-of-type {\n",
              "        vertical-align: middle;\n",
              "    }\n",
              "\n",
              "    .dataframe tbody tr th {\n",
              "        vertical-align: top;\n",
              "    }\n",
              "\n",
              "    .dataframe thead th {\n",
              "        text-align: right;\n",
              "    }\n",
              "</style>\n",
              "<table border=\"1\" class=\"dataframe\">\n",
              "  <thead>\n",
              "    <tr style=\"text-align: right;\">\n",
              "      <th></th>\n",
              "      <th>userId</th>\n",
              "      <th>movieId</th>\n",
              "      <th>rating</th>\n",
              "      <th>timestamp</th>\n",
              "      <th>title</th>\n",
              "      <th>genres</th>\n",
              "    </tr>\n",
              "  </thead>\n",
              "  <tbody>\n",
              "    <tr>\n",
              "      <th>1</th>\n",
              "      <td>3</td>\n",
              "      <td>296</td>\n",
              "      <td>5.0</td>\n",
              "      <td>1439474476</td>\n",
              "      <td>Pulp Fiction (1994)</td>\n",
              "      <td>[Comedy, Crime, Drama, Thriller]</td>\n",
              "    </tr>\n",
              "    <tr>\n",
              "      <th>12</th>\n",
              "      <td>19</td>\n",
              "      <td>296</td>\n",
              "      <td>3.5</td>\n",
              "      <td>1466674637</td>\n",
              "      <td>Pulp Fiction (1994)</td>\n",
              "      <td>[Comedy, Crime, Drama, Thriller]</td>\n",
              "    </tr>\n",
              "    <tr>\n",
              "      <th>90</th>\n",
              "      <td>187</td>\n",
              "      <td>296</td>\n",
              "      <td>4.5</td>\n",
              "      <td>1277374442</td>\n",
              "      <td>Pulp Fiction (1994)</td>\n",
              "      <td>[Comedy, Crime, Drama, Thriller]</td>\n",
              "    </tr>\n",
              "    <tr>\n",
              "      <th>140</th>\n",
              "      <td>284</td>\n",
              "      <td>296</td>\n",
              "      <td>4.5</td>\n",
              "      <td>1431924674</td>\n",
              "      <td>Pulp Fiction (1994)</td>\n",
              "      <td>[Comedy, Crime, Drama, Thriller]</td>\n",
              "    </tr>\n",
              "    <tr>\n",
              "      <th>173</th>\n",
              "      <td>357</td>\n",
              "      <td>296</td>\n",
              "      <td>3.5</td>\n",
              "      <td>1367156671</td>\n",
              "      <td>Pulp Fiction (1994)</td>\n",
              "      <td>[Comedy, Crime, Drama, Thriller]</td>\n",
              "    </tr>\n",
              "    <tr>\n",
              "      <th>...</th>\n",
              "      <td>...</td>\n",
              "      <td>...</td>\n",
              "      <td>...</td>\n",
              "      <td>...</td>\n",
              "      <td>...</td>\n",
              "      <td>...</td>\n",
              "    </tr>\n",
              "    <tr>\n",
              "      <th>25000073</th>\n",
              "      <td>162067</td>\n",
              "      <td>203064</td>\n",
              "      <td>2.5</td>\n",
              "      <td>1560035272</td>\n",
              "      <td>The Hotshots (1968)</td>\n",
              "      <td>[Comedy]</td>\n",
              "    </tr>\n",
              "    <tr>\n",
              "      <th>25000074</th>\n",
              "      <td>162271</td>\n",
              "      <td>92648</td>\n",
              "      <td>3.0</td>\n",
              "      <td>1327978630</td>\n",
              "      <td>BookWars (2000)</td>\n",
              "      <td>[Comedy, Crime, Documentary]</td>\n",
              "    </tr>\n",
              "    <tr>\n",
              "      <th>25000075</th>\n",
              "      <td>162271</td>\n",
              "      <td>92946</td>\n",
              "      <td>1.0</td>\n",
              "      <td>1329627154</td>\n",
              "      <td>Souler Opposite, The (1998)</td>\n",
              "      <td>[Comedy, Romance]</td>\n",
              "    </tr>\n",
              "    <tr>\n",
              "      <th>25000076</th>\n",
              "      <td>162271</td>\n",
              "      <td>95230</td>\n",
              "      <td>2.5</td>\n",
              "      <td>1340566357</td>\n",
              "      <td>Macbeth in Manhattan (1999)</td>\n",
              "      <td>[Drama]</td>\n",
              "    </tr>\n",
              "    <tr>\n",
              "      <th>25000077</th>\n",
              "      <td>162297</td>\n",
              "      <td>114357</td>\n",
              "      <td>4.5</td>\n",
              "      <td>1528138907</td>\n",
              "      <td>Best Place to be, The (Beste Gegend) (2008)</td>\n",
              "      <td>[Action, Drama, Thriller]</td>\n",
              "    </tr>\n",
              "  </tbody>\n",
              "</table>\n",
              "<p>3167637 rows × 6 columns</p>\n",
              "</div>"
            ],
            "text/plain": [
              "          userId  ...                            genres\n",
              "1              3  ...  [Comedy, Crime, Drama, Thriller]\n",
              "12            19  ...  [Comedy, Crime, Drama, Thriller]\n",
              "90           187  ...  [Comedy, Crime, Drama, Thriller]\n",
              "140          284  ...  [Comedy, Crime, Drama, Thriller]\n",
              "173          357  ...  [Comedy, Crime, Drama, Thriller]\n",
              "...          ...  ...                               ...\n",
              "25000073  162067  ...                          [Comedy]\n",
              "25000074  162271  ...      [Comedy, Crime, Documentary]\n",
              "25000075  162271  ...                 [Comedy, Romance]\n",
              "25000076  162271  ...                           [Drama]\n",
              "25000077  162297  ...         [Action, Drama, Thriller]\n",
              "\n",
              "[3167637 rows x 6 columns]"
            ]
          },
          "metadata": {
            "tags": []
          },
          "execution_count": 8
        }
      ]
    },
    {
      "cell_type": "markdown",
      "metadata": {
        "id": "sTHNKZv8jXgU",
        "colab_type": "text"
      },
      "source": [
        "## ***Timestamp***"
      ]
    },
    {
      "cell_type": "code",
      "metadata": {
        "id": "nc8EZmT0kQrv",
        "colab_type": "code",
        "outputId": "3c535ddd-61f8-474f-f16c-e0e10b41c429",
        "colab": {
          "base_uri": "https://localhost:8080/",
          "height": 34
        }
      },
      "source": [
        "total.describe()['timestamp']['75%']"
      ],
      "execution_count": 0,
      "outputs": [
        {
          "output_type": "execute_result",
          "data": {
            "text/plain": [
              "1454200478.0"
            ]
          },
          "metadata": {
            "tags": []
          },
          "execution_count": 17
        }
      ]
    },
    {
      "cell_type": "code",
      "metadata": {
        "id": "tsJawe4PfBOA",
        "colab_type": "code",
        "colab": {}
      },
      "source": [
        "test_75 = total[total['timestamp'] <= 1454200478.0]"
      ],
      "execution_count": 0,
      "outputs": []
    },
    {
      "cell_type": "code",
      "metadata": {
        "id": "G4JPkNpajfiV",
        "colab_type": "code",
        "colab": {}
      },
      "source": [
        "test_25 = total[total['timestamp'] > 1454200478.0]"
      ],
      "execution_count": 0,
      "outputs": []
    },
    {
      "cell_type": "code",
      "metadata": {
        "id": "bPCOjMnykqxp",
        "colab_type": "code",
        "colab": {}
      },
      "source": [
        "common = list(set(test_75['userId'].unique()).intersection(set(test_25['userId'].unique())))"
      ],
      "execution_count": 0,
      "outputs": []
    },
    {
      "cell_type": "code",
      "metadata": {
        "id": "H-vS6sK8ncFE",
        "colab_type": "code",
        "outputId": "60398800-b2d6-4e0a-c8e7-5dfe6fb2cef6",
        "colab": {
          "base_uri": "https://localhost:8080/",
          "height": 402
        }
      },
      "source": [
        "test_75"
      ],
      "execution_count": 0,
      "outputs": [
        {
          "output_type": "execute_result",
          "data": {
            "text/html": [
              "<div>\n",
              "<style scoped>\n",
              "    .dataframe tbody tr th:only-of-type {\n",
              "        vertical-align: middle;\n",
              "    }\n",
              "\n",
              "    .dataframe tbody tr th {\n",
              "        vertical-align: top;\n",
              "    }\n",
              "\n",
              "    .dataframe thead th {\n",
              "        text-align: right;\n",
              "    }\n",
              "</style>\n",
              "<table border=\"1\" class=\"dataframe\">\n",
              "  <thead>\n",
              "    <tr style=\"text-align: right;\">\n",
              "      <th></th>\n",
              "      <th>userId</th>\n",
              "      <th>movieId</th>\n",
              "      <th>rating</th>\n",
              "      <th>timestamp</th>\n",
              "      <th>title</th>\n",
              "      <th>genres</th>\n",
              "    </tr>\n",
              "  </thead>\n",
              "  <tbody>\n",
              "    <tr>\n",
              "      <th>1</th>\n",
              "      <td>3</td>\n",
              "      <td>296</td>\n",
              "      <td>5.0</td>\n",
              "      <td>1439474476</td>\n",
              "      <td>Pulp Fiction (1994)</td>\n",
              "      <td>[Comedy, Crime, Drama, Thriller]</td>\n",
              "    </tr>\n",
              "    <tr>\n",
              "      <th>90</th>\n",
              "      <td>187</td>\n",
              "      <td>296</td>\n",
              "      <td>4.5</td>\n",
              "      <td>1277374442</td>\n",
              "      <td>Pulp Fiction (1994)</td>\n",
              "      <td>[Comedy, Crime, Drama, Thriller]</td>\n",
              "    </tr>\n",
              "    <tr>\n",
              "      <th>140</th>\n",
              "      <td>284</td>\n",
              "      <td>296</td>\n",
              "      <td>4.5</td>\n",
              "      <td>1431924674</td>\n",
              "      <td>Pulp Fiction (1994)</td>\n",
              "      <td>[Comedy, Crime, Drama, Thriller]</td>\n",
              "    </tr>\n",
              "    <tr>\n",
              "      <th>173</th>\n",
              "      <td>357</td>\n",
              "      <td>296</td>\n",
              "      <td>3.5</td>\n",
              "      <td>1367156671</td>\n",
              "      <td>Pulp Fiction (1994)</td>\n",
              "      <td>[Comedy, Crime, Drama, Thriller]</td>\n",
              "    </tr>\n",
              "    <tr>\n",
              "      <th>179</th>\n",
              "      <td>368</td>\n",
              "      <td>296</td>\n",
              "      <td>5.0</td>\n",
              "      <td>1402798200</td>\n",
              "      <td>Pulp Fiction (1994)</td>\n",
              "      <td>[Comedy, Crime, Drama, Thriller]</td>\n",
              "    </tr>\n",
              "    <tr>\n",
              "      <th>...</th>\n",
              "      <td>...</td>\n",
              "      <td>...</td>\n",
              "      <td>...</td>\n",
              "      <td>...</td>\n",
              "      <td>...</td>\n",
              "      <td>...</td>\n",
              "    </tr>\n",
              "    <tr>\n",
              "      <th>25000058</th>\n",
              "      <td>162067</td>\n",
              "      <td>114365</td>\n",
              "      <td>2.5</td>\n",
              "      <td>1445788103</td>\n",
              "      <td>Wer's glaubt wird selig (2012)</td>\n",
              "      <td>[Comedy]</td>\n",
              "    </tr>\n",
              "    <tr>\n",
              "      <th>25000059</th>\n",
              "      <td>162067</td>\n",
              "      <td>150610</td>\n",
              "      <td>2.5</td>\n",
              "      <td>1452554148</td>\n",
              "      <td>Der böse Onkel (2013)</td>\n",
              "      <td>[Comedy, Drama]</td>\n",
              "    </tr>\n",
              "    <tr>\n",
              "      <th>25000074</th>\n",
              "      <td>162271</td>\n",
              "      <td>92648</td>\n",
              "      <td>3.0</td>\n",
              "      <td>1327978630</td>\n",
              "      <td>BookWars (2000)</td>\n",
              "      <td>[Comedy, Crime, Documentary]</td>\n",
              "    </tr>\n",
              "    <tr>\n",
              "      <th>25000075</th>\n",
              "      <td>162271</td>\n",
              "      <td>92946</td>\n",
              "      <td>1.0</td>\n",
              "      <td>1329627154</td>\n",
              "      <td>Souler Opposite, The (1998)</td>\n",
              "      <td>[Comedy, Romance]</td>\n",
              "    </tr>\n",
              "    <tr>\n",
              "      <th>25000076</th>\n",
              "      <td>162271</td>\n",
              "      <td>95230</td>\n",
              "      <td>2.5</td>\n",
              "      <td>1340566357</td>\n",
              "      <td>Macbeth in Manhattan (1999)</td>\n",
              "      <td>[Drama]</td>\n",
              "    </tr>\n",
              "  </tbody>\n",
              "</table>\n",
              "<p>2375728 rows × 6 columns</p>\n",
              "</div>"
            ],
            "text/plain": [
              "          userId  ...                            genres\n",
              "1              3  ...  [Comedy, Crime, Drama, Thriller]\n",
              "90           187  ...  [Comedy, Crime, Drama, Thriller]\n",
              "140          284  ...  [Comedy, Crime, Drama, Thriller]\n",
              "173          357  ...  [Comedy, Crime, Drama, Thriller]\n",
              "179          368  ...  [Comedy, Crime, Drama, Thriller]\n",
              "...          ...  ...                               ...\n",
              "25000058  162067  ...                          [Comedy]\n",
              "25000059  162067  ...                   [Comedy, Drama]\n",
              "25000074  162271  ...      [Comedy, Crime, Documentary]\n",
              "25000075  162271  ...                 [Comedy, Romance]\n",
              "25000076  162271  ...                           [Drama]\n",
              "\n",
              "[2375728 rows x 6 columns]"
            ]
          },
          "metadata": {
            "tags": []
          },
          "execution_count": 24
        }
      ]
    },
    {
      "cell_type": "markdown",
      "metadata": {
        "id": "Uwx4HXo5KP1q",
        "colab_type": "text"
      },
      "source": [
        "## **Predicting From Clusters**"
      ]
    },
    {
      "cell_type": "code",
      "metadata": {
        "colab_type": "code",
        "id": "VFGbKSNALd6J",
        "colab": {}
      },
      "source": [
        "test75_matrix = test_75.pivot_table(index='userId',columns='movieId',values='rating')"
      ],
      "execution_count": 0,
      "outputs": []
    },
    {
      "cell_type": "code",
      "metadata": {
        "colab_type": "code",
        "id": "7Cy05_ePLd6L",
        "colab": {}
      },
      "source": [
        "test75_matrix = test75_matrix.fillna(0.0)"
      ],
      "execution_count": 0,
      "outputs": []
    },
    {
      "cell_type": "code",
      "metadata": {
        "colab_type": "code",
        "id": "i6iw-CMdLd6M",
        "colab": {}
      },
      "source": [
        "X = test75_matrix.iloc[:, :].values"
      ],
      "execution_count": 0,
      "outputs": []
    },
    {
      "cell_type": "code",
      "metadata": {
        "colab_type": "code",
        "outputId": "4adc2a3f-1609-470b-b2b0-3de6d3715175",
        "id": "yMVTevrVLd6O",
        "colab": {
          "base_uri": "https://localhost:8080/"
        }
      },
      "source": [
        "import scipy.cluster.hierarchy as sch\n",
        "dendrogram = sch.dendrogram(sch.linkage(X, method  = \"ward\"))\n",
        "plt.title('Dendrogram')\n",
        "plt.xlabel('Users')\n",
        "plt.ylabel('Euclidean distances')\n",
        "plt.show()"
      ],
      "execution_count": 0,
      "outputs": [
        {
          "output_type": "display_data",
          "data": {
            "image/png": "[encoded data removed]",
            "text/plain": [
              "<Figure size 432x288 with 1 Axes>"
            ]
          },
          "metadata": {
            "tags": [],
            "needs_background": "light"
          }
        }
      ]
    },
    {
      "cell_type": "code",
      "metadata": {
        "colab_type": "code",
        "id": "x_HgPcWUL6E1",
        "colab": {}
      },
      "source": [
        "from sklearn.cluster import AgglomerativeClustering \n",
        "hc = AgglomerativeClustering(n_clusters = 4, affinity = 'euclidean', linkage ='ward')\n",
        "y_hc = hc.fit_predict(X)"
      ],
      "execution_count": 0,
      "outputs": []
    },
    {
      "cell_type": "code",
      "metadata": {
        "colab_type": "code",
        "outputId": "5e2b6e98-9fcb-4671-8f67-2fce43338741",
        "id": "PbOjdm06L6E4",
        "colab": {
          "base_uri": "https://localhost:8080/",
          "height": 34
        }
      },
      "source": [
        "y_hc"
      ],
      "execution_count": 0,
      "outputs": [
        {
          "output_type": "execute_result",
          "data": {
            "text/plain": [
              "array([3, 0, 1, ..., 0, 2, 3])"
            ]
          },
          "metadata": {
            "tags": []
          },
          "execution_count": 29
        }
      ]
    },
    {
      "cell_type": "code",
      "metadata": {
        "colab_type": "code",
        "outputId": "6469d8b1-4be7-48ca-b919-4160a6d1fcde",
        "id": "IRyB11MAL6E7",
        "colab": {
          "base_uri": "https://localhost:8080/",
          "height": 34
        }
      },
      "source": [
        "import collections\n",
        "collections.Counter(y_hc)"
      ],
      "execution_count": 0,
      "outputs": [
        {
          "output_type": "execute_result",
          "data": {
            "text/plain": [
              "Counter({0: 2340, 1: 913, 2: 262, 3: 591})"
            ]
          },
          "metadata": {
            "tags": []
          },
          "execution_count": 30
        }
      ]
    },
    {
      "cell_type": "code",
      "metadata": {
        "colab_type": "code",
        "id": "24c9EiTjL6E6",
        "colab": {}
      },
      "source": [
        "xyz = pd.concat([pd.DataFrame(test75_matrix.index.tolist(), columns = ['userId']), pd.DataFrame(y_hc, columns = ['Cluster'])], axis = 1)"
      ],
      "execution_count": 0,
      "outputs": []
    },
    {
      "cell_type": "code",
      "metadata": {
        "id": "TnghamTCjrfP",
        "colab_type": "code",
        "outputId": "44e83830-f05c-4d25-884c-097dca1d1cae",
        "colab": {
          "base_uri": "https://localhost:8080/",
          "height": 402
        }
      },
      "source": [
        "xyz"
      ],
      "execution_count": 0,
      "outputs": [
        {
          "output_type": "execute_result",
          "data": {
            "text/html": [
              "<div>\n",
              "<style scoped>\n",
              "    .dataframe tbody tr th:only-of-type {\n",
              "        vertical-align: middle;\n",
              "    }\n",
              "\n",
              "    .dataframe tbody tr th {\n",
              "        vertical-align: top;\n",
              "    }\n",
              "\n",
              "    .dataframe thead th {\n",
              "        text-align: right;\n",
              "    }\n",
              "</style>\n",
              "<table border=\"1\" class=\"dataframe\">\n",
              "  <thead>\n",
              "    <tr style=\"text-align: right;\">\n",
              "      <th></th>\n",
              "      <th>userId</th>\n",
              "      <th>Cluster</th>\n",
              "    </tr>\n",
              "  </thead>\n",
              "  <tbody>\n",
              "    <tr>\n",
              "      <th>0</th>\n",
              "      <td>3</td>\n",
              "      <td>3</td>\n",
              "    </tr>\n",
              "    <tr>\n",
              "      <th>1</th>\n",
              "      <td>19</td>\n",
              "      <td>0</td>\n",
              "    </tr>\n",
              "    <tr>\n",
              "      <th>2</th>\n",
              "      <td>187</td>\n",
              "      <td>1</td>\n",
              "    </tr>\n",
              "    <tr>\n",
              "      <th>3</th>\n",
              "      <td>284</td>\n",
              "      <td>0</td>\n",
              "    </tr>\n",
              "    <tr>\n",
              "      <th>4</th>\n",
              "      <td>357</td>\n",
              "      <td>0</td>\n",
              "    </tr>\n",
              "    <tr>\n",
              "      <th>...</th>\n",
              "      <td>...</td>\n",
              "      <td>...</td>\n",
              "    </tr>\n",
              "    <tr>\n",
              "      <th>4101</th>\n",
              "      <td>162482</td>\n",
              "      <td>0</td>\n",
              "    </tr>\n",
              "    <tr>\n",
              "      <th>4102</th>\n",
              "      <td>162498</td>\n",
              "      <td>0</td>\n",
              "    </tr>\n",
              "    <tr>\n",
              "      <th>4103</th>\n",
              "      <td>162512</td>\n",
              "      <td>0</td>\n",
              "    </tr>\n",
              "    <tr>\n",
              "      <th>4104</th>\n",
              "      <td>162516</td>\n",
              "      <td>2</td>\n",
              "    </tr>\n",
              "    <tr>\n",
              "      <th>4105</th>\n",
              "      <td>162521</td>\n",
              "      <td>3</td>\n",
              "    </tr>\n",
              "  </tbody>\n",
              "</table>\n",
              "<p>4106 rows × 2 columns</p>\n",
              "</div>"
            ],
            "text/plain": [
              "      userId  Cluster\n",
              "0          3        3\n",
              "1         19        0\n",
              "2        187        1\n",
              "3        284        0\n",
              "4        357        0\n",
              "...      ...      ...\n",
              "4101  162482        0\n",
              "4102  162498        0\n",
              "4103  162512        0\n",
              "4104  162516        2\n",
              "4105  162521        3\n",
              "\n",
              "[4106 rows x 2 columns]"
            ]
          },
          "metadata": {
            "tags": []
          },
          "execution_count": 32
        }
      ]
    },
    {
      "cell_type": "code",
      "metadata": {
        "id": "-2LVRbwXgqOm",
        "colab_type": "code",
        "colab": {}
      },
      "source": [
        "ratings = pd.merge(ratings, ratings.groupby('movieId', as_index = False)['rating'].count(), on = 'movieId')"
      ],
      "execution_count": 0,
      "outputs": []
    },
    {
      "cell_type": "code",
      "metadata": {
        "id": "GipNlsv5heJx",
        "colab_type": "code",
        "colab": {}
      },
      "source": [
        "ratings = ratings.rename(columns = {'rating_x': 'rating', 'rating_y': 'count_num'})"
      ],
      "execution_count": 0,
      "outputs": []
    },
    {
      "cell_type": "code",
      "metadata": {
        "id": "37h4tZ7Chre6",
        "colab_type": "code",
        "outputId": "944026d6-3c15-4ed9-9ee6-200500b53843",
        "colab": {
          "base_uri": "https://localhost:8080/",
          "height": 34
        }
      },
      "source": [
        "gc.collect()"
      ],
      "execution_count": 0,
      "outputs": [
        {
          "output_type": "execute_result",
          "data": {
            "text/plain": [
              "11"
            ]
          },
          "metadata": {
            "tags": []
          },
          "execution_count": 35
        }
      ]
    },
    {
      "cell_type": "markdown",
      "metadata": {
        "id": "cPvPxInalXiE",
        "colab_type": "text"
      },
      "source": [
        "## **Cluster 1**"
      ]
    },
    {
      "cell_type": "code",
      "metadata": {
        "colab_type": "code",
        "outputId": "ef745149-ac11-4287-b5bd-43ab2c638de0",
        "id": "aiYhGlHAmFBG",
        "colab": {
          "base_uri": "https://localhost:8080/",
          "height": 402
        }
      },
      "source": [
        "temp1 = xyz[xyz['Cluster'] == 0]\n",
        "temp1"
      ],
      "execution_count": 0,
      "outputs": [
        {
          "output_type": "execute_result",
          "data": {
            "text/html": [
              "<div>\n",
              "<style scoped>\n",
              "    .dataframe tbody tr th:only-of-type {\n",
              "        vertical-align: middle;\n",
              "    }\n",
              "\n",
              "    .dataframe tbody tr th {\n",
              "        vertical-align: top;\n",
              "    }\n",
              "\n",
              "    .dataframe thead th {\n",
              "        text-align: right;\n",
              "    }\n",
              "</style>\n",
              "<table border=\"1\" class=\"dataframe\">\n",
              "  <thead>\n",
              "    <tr style=\"text-align: right;\">\n",
              "      <th></th>\n",
              "      <th>userId</th>\n",
              "      <th>Cluster</th>\n",
              "    </tr>\n",
              "  </thead>\n",
              "  <tbody>\n",
              "    <tr>\n",
              "      <th>1</th>\n",
              "      <td>19</td>\n",
              "      <td>0</td>\n",
              "    </tr>\n",
              "    <tr>\n",
              "      <th>3</th>\n",
              "      <td>284</td>\n",
              "      <td>0</td>\n",
              "    </tr>\n",
              "    <tr>\n",
              "      <th>4</th>\n",
              "      <td>357</td>\n",
              "      <td>0</td>\n",
              "    </tr>\n",
              "    <tr>\n",
              "      <th>5</th>\n",
              "      <td>368</td>\n",
              "      <td>0</td>\n",
              "    </tr>\n",
              "    <tr>\n",
              "      <th>6</th>\n",
              "      <td>402</td>\n",
              "      <td>0</td>\n",
              "    </tr>\n",
              "    <tr>\n",
              "      <th>...</th>\n",
              "      <td>...</td>\n",
              "      <td>...</td>\n",
              "    </tr>\n",
              "    <tr>\n",
              "      <th>4099</th>\n",
              "      <td>162390</td>\n",
              "      <td>0</td>\n",
              "    </tr>\n",
              "    <tr>\n",
              "      <th>4100</th>\n",
              "      <td>162467</td>\n",
              "      <td>0</td>\n",
              "    </tr>\n",
              "    <tr>\n",
              "      <th>4101</th>\n",
              "      <td>162482</td>\n",
              "      <td>0</td>\n",
              "    </tr>\n",
              "    <tr>\n",
              "      <th>4102</th>\n",
              "      <td>162498</td>\n",
              "      <td>0</td>\n",
              "    </tr>\n",
              "    <tr>\n",
              "      <th>4103</th>\n",
              "      <td>162512</td>\n",
              "      <td>0</td>\n",
              "    </tr>\n",
              "  </tbody>\n",
              "</table>\n",
              "<p>2340 rows × 2 columns</p>\n",
              "</div>"
            ],
            "text/plain": [
              "      userId  Cluster\n",
              "1         19        0\n",
              "3        284        0\n",
              "4        357        0\n",
              "5        368        0\n",
              "6        402        0\n",
              "...      ...      ...\n",
              "4099  162390        0\n",
              "4100  162467        0\n",
              "4101  162482        0\n",
              "4102  162498        0\n",
              "4103  162512        0\n",
              "\n",
              "[2340 rows x 2 columns]"
            ]
          },
          "metadata": {
            "tags": []
          },
          "execution_count": 36
        }
      ]
    },
    {
      "cell_type": "code",
      "metadata": {
        "colab_type": "code",
        "id": "m90KIPO4mFBJ",
        "colab": {}
      },
      "source": [
        "cluster_1 = pd.merge(ratings, temp1, left_on = 'userId', right_on = 'userId')"
      ],
      "execution_count": 0,
      "outputs": []
    },
    {
      "cell_type": "code",
      "metadata": {
        "colab_type": "code",
        "id": "b8Uv_Hq2mFBM",
        "colab": {}
      },
      "source": [
        "cluster_1.drop(columns = ['Cluster', 'timestamp'], inplace = True)"
      ],
      "execution_count": 0,
      "outputs": []
    },
    {
      "cell_type": "code",
      "metadata": {
        "id": "BLU2oOM8Ps_n",
        "colab_type": "code",
        "colab": {}
      },
      "source": [
        "cluster_1=pd.DataFrame(cluster_1.groupby(['movieId', 'count_num']).agg(count_rate=pd.NamedAgg(column='rating', aggfunc='mean')))"
      ],
      "execution_count": 0,
      "outputs": []
    },
    {
      "cell_type": "code",
      "metadata": {
        "id": "BekWooiSjGf2",
        "colab_type": "code",
        "colab": {}
      },
      "source": [
        "cluster_1 = cluster_1.reset_index()"
      ],
      "execution_count": 0,
      "outputs": []
    },
    {
      "cell_type": "code",
      "metadata": {
        "id": "L2UwJ3KJXlXp",
        "colab_type": "code",
        "outputId": "f1bfb2a1-ad7d-4168-8f11-39d08312ba75",
        "colab": {
          "base_uri": "https://localhost:8080/",
          "height": 402
        }
      },
      "source": [
        "cluster_1"
      ],
      "execution_count": 0,
      "outputs": [
        {
          "output_type": "execute_result",
          "data": {
            "text/html": [
              "<div>\n",
              "<style scoped>\n",
              "    .dataframe tbody tr th:only-of-type {\n",
              "        vertical-align: middle;\n",
              "    }\n",
              "\n",
              "    .dataframe tbody tr th {\n",
              "        vertical-align: top;\n",
              "    }\n",
              "\n",
              "    .dataframe thead th {\n",
              "        text-align: right;\n",
              "    }\n",
              "</style>\n",
              "<table border=\"1\" class=\"dataframe\">\n",
              "  <thead>\n",
              "    <tr style=\"text-align: right;\">\n",
              "      <th></th>\n",
              "      <th>movieId</th>\n",
              "      <th>count_num</th>\n",
              "      <th>count_rate</th>\n",
              "    </tr>\n",
              "  </thead>\n",
              "  <tbody>\n",
              "    <tr>\n",
              "      <th>0</th>\n",
              "      <td>1</td>\n",
              "      <td>57309</td>\n",
              "      <td>3.686062</td>\n",
              "    </tr>\n",
              "    <tr>\n",
              "      <th>1</th>\n",
              "      <td>2</td>\n",
              "      <td>24228</td>\n",
              "      <td>3.133504</td>\n",
              "    </tr>\n",
              "    <tr>\n",
              "      <th>2</th>\n",
              "      <td>3</td>\n",
              "      <td>11804</td>\n",
              "      <td>2.976190</td>\n",
              "    </tr>\n",
              "    <tr>\n",
              "      <th>3</th>\n",
              "      <td>4</td>\n",
              "      <td>2523</td>\n",
              "      <td>2.333333</td>\n",
              "    </tr>\n",
              "    <tr>\n",
              "      <th>4</th>\n",
              "      <td>5</td>\n",
              "      <td>11714</td>\n",
              "      <td>2.559028</td>\n",
              "    </tr>\n",
              "    <tr>\n",
              "      <th>...</th>\n",
              "      <td>...</td>\n",
              "      <td>...</td>\n",
              "      <td>...</td>\n",
              "    </tr>\n",
              "    <tr>\n",
              "      <th>29991</th>\n",
              "      <td>209123</td>\n",
              "      <td>1</td>\n",
              "      <td>4.000000</td>\n",
              "    </tr>\n",
              "    <tr>\n",
              "      <th>29992</th>\n",
              "      <td>209129</td>\n",
              "      <td>1</td>\n",
              "      <td>4.500000</td>\n",
              "    </tr>\n",
              "    <tr>\n",
              "      <th>29993</th>\n",
              "      <td>209131</td>\n",
              "      <td>1</td>\n",
              "      <td>3.500000</td>\n",
              "    </tr>\n",
              "    <tr>\n",
              "      <th>29994</th>\n",
              "      <td>209159</td>\n",
              "      <td>1</td>\n",
              "      <td>3.000000</td>\n",
              "    </tr>\n",
              "    <tr>\n",
              "      <th>29995</th>\n",
              "      <td>209163</td>\n",
              "      <td>1</td>\n",
              "      <td>4.500000</td>\n",
              "    </tr>\n",
              "  </tbody>\n",
              "</table>\n",
              "<p>29996 rows × 3 columns</p>\n",
              "</div>"
            ],
            "text/plain": [
              "       movieId  count_num  count_rate\n",
              "0            1      57309    3.686062\n",
              "1            2      24228    3.133504\n",
              "2            3      11804    2.976190\n",
              "3            4       2523    2.333333\n",
              "4            5      11714    2.559028\n",
              "...        ...        ...         ...\n",
              "29991   209123          1    4.000000\n",
              "29992   209129          1    4.500000\n",
              "29993   209131          1    3.500000\n",
              "29994   209159          1    3.000000\n",
              "29995   209163          1    4.500000\n",
              "\n",
              "[29996 rows x 3 columns]"
            ]
          },
          "metadata": {
            "tags": []
          },
          "execution_count": 119
        }
      ]
    },
    {
      "cell_type": "markdown",
      "metadata": {
        "colab_type": "text",
        "id": "F6-Vk2u1nVHF"
      },
      "source": [
        "## **Cluster 2**"
      ]
    },
    {
      "cell_type": "code",
      "metadata": {
        "colab_type": "code",
        "outputId": "55ce75d3-0e94-4924-d2ca-71944777a26b",
        "id": "iuRUSBzynVHH",
        "colab": {
          "base_uri": "https://localhost:8080/",
          "height": 402
        }
      },
      "source": [
        "temp2 = xyz[xyz['Cluster'] == 1]\n",
        "temp2"
      ],
      "execution_count": 0,
      "outputs": [
        {
          "output_type": "execute_result",
          "data": {
            "text/html": [
              "<div>\n",
              "<style scoped>\n",
              "    .dataframe tbody tr th:only-of-type {\n",
              "        vertical-align: middle;\n",
              "    }\n",
              "\n",
              "    .dataframe tbody tr th {\n",
              "        vertical-align: top;\n",
              "    }\n",
              "\n",
              "    .dataframe thead th {\n",
              "        text-align: right;\n",
              "    }\n",
              "</style>\n",
              "<table border=\"1\" class=\"dataframe\">\n",
              "  <thead>\n",
              "    <tr style=\"text-align: right;\">\n",
              "      <th></th>\n",
              "      <th>userId</th>\n",
              "      <th>Cluster</th>\n",
              "    </tr>\n",
              "  </thead>\n",
              "  <tbody>\n",
              "    <tr>\n",
              "      <th>2</th>\n",
              "      <td>187</td>\n",
              "      <td>1</td>\n",
              "    </tr>\n",
              "    <tr>\n",
              "      <th>8</th>\n",
              "      <td>426</td>\n",
              "      <td>1</td>\n",
              "    </tr>\n",
              "    <tr>\n",
              "      <th>12</th>\n",
              "      <td>653</td>\n",
              "      <td>1</td>\n",
              "    </tr>\n",
              "    <tr>\n",
              "      <th>20</th>\n",
              "      <td>939</td>\n",
              "      <td>1</td>\n",
              "    </tr>\n",
              "    <tr>\n",
              "      <th>22</th>\n",
              "      <td>1203</td>\n",
              "      <td>1</td>\n",
              "    </tr>\n",
              "    <tr>\n",
              "      <th>...</th>\n",
              "      <td>...</td>\n",
              "      <td>...</td>\n",
              "    </tr>\n",
              "    <tr>\n",
              "      <th>4069</th>\n",
              "      <td>160858</td>\n",
              "      <td>1</td>\n",
              "    </tr>\n",
              "    <tr>\n",
              "      <th>4074</th>\n",
              "      <td>161047</td>\n",
              "      <td>1</td>\n",
              "    </tr>\n",
              "    <tr>\n",
              "      <th>4081</th>\n",
              "      <td>161378</td>\n",
              "      <td>1</td>\n",
              "    </tr>\n",
              "    <tr>\n",
              "      <th>4090</th>\n",
              "      <td>161928</td>\n",
              "      <td>1</td>\n",
              "    </tr>\n",
              "    <tr>\n",
              "      <th>4098</th>\n",
              "      <td>162368</td>\n",
              "      <td>1</td>\n",
              "    </tr>\n",
              "  </tbody>\n",
              "</table>\n",
              "<p>913 rows × 2 columns</p>\n",
              "</div>"
            ],
            "text/plain": [
              "      userId  Cluster\n",
              "2        187        1\n",
              "8        426        1\n",
              "12       653        1\n",
              "20       939        1\n",
              "22      1203        1\n",
              "...      ...      ...\n",
              "4069  160858        1\n",
              "4074  161047        1\n",
              "4081  161378        1\n",
              "4090  161928        1\n",
              "4098  162368        1\n",
              "\n",
              "[913 rows x 2 columns]"
            ]
          },
          "metadata": {
            "tags": []
          },
          "execution_count": 41
        }
      ]
    },
    {
      "cell_type": "code",
      "metadata": {
        "colab_type": "code",
        "id": "G3h1hWhgnVHJ",
        "colab": {}
      },
      "source": [
        "cluster_2 = pd.merge(ratings, temp2, left_on = 'userId', right_on = 'userId')"
      ],
      "execution_count": 0,
      "outputs": []
    },
    {
      "cell_type": "code",
      "metadata": {
        "colab_type": "code",
        "id": "9pZams-PnVHL",
        "colab": {}
      },
      "source": [
        "cluster_2.drop(columns = ['Cluster', 'timestamp'], inplace = True)"
      ],
      "execution_count": 0,
      "outputs": []
    },
    {
      "cell_type": "code",
      "metadata": {
        "colab_type": "code",
        "id": "5CHWwYFXQ6h9",
        "colab": {}
      },
      "source": [
        "cluster_2=pd.DataFrame(cluster_2.groupby(['movieId', 'count_num']).agg(count_rate=pd.NamedAgg(column='rating', aggfunc='mean')))"
      ],
      "execution_count": 0,
      "outputs": []
    },
    {
      "cell_type": "code",
      "metadata": {
        "id": "k4lt4y5SkmZ-",
        "colab_type": "code",
        "colab": {}
      },
      "source": [
        "cluster_2 = cluster_2.reset_index()"
      ],
      "execution_count": 0,
      "outputs": []
    },
    {
      "cell_type": "code",
      "metadata": {
        "id": "wdN-TXfjXjJe",
        "colab_type": "code",
        "outputId": "b99eaf6b-341f-400b-fede-db05b16386fd",
        "colab": {
          "base_uri": "https://localhost:8080/",
          "height": 402
        }
      },
      "source": [
        "cluster_2"
      ],
      "execution_count": 0,
      "outputs": [
        {
          "output_type": "execute_result",
          "data": {
            "text/html": [
              "<div>\n",
              "<style scoped>\n",
              "    .dataframe tbody tr th:only-of-type {\n",
              "        vertical-align: middle;\n",
              "    }\n",
              "\n",
              "    .dataframe tbody tr th {\n",
              "        vertical-align: top;\n",
              "    }\n",
              "\n",
              "    .dataframe thead th {\n",
              "        text-align: right;\n",
              "    }\n",
              "</style>\n",
              "<table border=\"1\" class=\"dataframe\">\n",
              "  <thead>\n",
              "    <tr style=\"text-align: right;\">\n",
              "      <th></th>\n",
              "      <th>movieId</th>\n",
              "      <th>count_num</th>\n",
              "      <th>count_rate</th>\n",
              "    </tr>\n",
              "  </thead>\n",
              "  <tbody>\n",
              "    <tr>\n",
              "      <th>0</th>\n",
              "      <td>1</td>\n",
              "      <td>57309</td>\n",
              "      <td>3.826467</td>\n",
              "    </tr>\n",
              "    <tr>\n",
              "      <th>1</th>\n",
              "      <td>2</td>\n",
              "      <td>24228</td>\n",
              "      <td>3.014555</td>\n",
              "    </tr>\n",
              "    <tr>\n",
              "      <th>2</th>\n",
              "      <td>3</td>\n",
              "      <td>11804</td>\n",
              "      <td>2.858696</td>\n",
              "    </tr>\n",
              "    <tr>\n",
              "      <th>3</th>\n",
              "      <td>4</td>\n",
              "      <td>2523</td>\n",
              "      <td>2.390625</td>\n",
              "    </tr>\n",
              "    <tr>\n",
              "      <th>4</th>\n",
              "      <td>5</td>\n",
              "      <td>11714</td>\n",
              "      <td>2.713918</td>\n",
              "    </tr>\n",
              "    <tr>\n",
              "      <th>...</th>\n",
              "      <td>...</td>\n",
              "      <td>...</td>\n",
              "      <td>...</td>\n",
              "    </tr>\n",
              "    <tr>\n",
              "      <th>32507</th>\n",
              "      <td>208889</td>\n",
              "      <td>2</td>\n",
              "      <td>3.000000</td>\n",
              "    </tr>\n",
              "    <tr>\n",
              "      <th>32508</th>\n",
              "      <td>208939</td>\n",
              "      <td>8</td>\n",
              "      <td>4.000000</td>\n",
              "    </tr>\n",
              "    <tr>\n",
              "      <th>32509</th>\n",
              "      <td>208941</td>\n",
              "      <td>1</td>\n",
              "      <td>3.000000</td>\n",
              "    </tr>\n",
              "    <tr>\n",
              "      <th>32510</th>\n",
              "      <td>209069</td>\n",
              "      <td>1</td>\n",
              "      <td>3.000000</td>\n",
              "    </tr>\n",
              "    <tr>\n",
              "      <th>32511</th>\n",
              "      <td>209151</td>\n",
              "      <td>1</td>\n",
              "      <td>3.500000</td>\n",
              "    </tr>\n",
              "  </tbody>\n",
              "</table>\n",
              "<p>32512 rows × 3 columns</p>\n",
              "</div>"
            ],
            "text/plain": [
              "       movieId  count_num  count_rate\n",
              "0            1      57309    3.826467\n",
              "1            2      24228    3.014555\n",
              "2            3      11804    2.858696\n",
              "3            4       2523    2.390625\n",
              "4            5      11714    2.713918\n",
              "...        ...        ...         ...\n",
              "32507   208889          2    3.000000\n",
              "32508   208939          8    4.000000\n",
              "32509   208941          1    3.000000\n",
              "32510   209069          1    3.000000\n",
              "32511   209151          1    3.500000\n",
              "\n",
              "[32512 rows x 3 columns]"
            ]
          },
          "metadata": {
            "tags": []
          },
          "execution_count": 118
        }
      ]
    },
    {
      "cell_type": "markdown",
      "metadata": {
        "colab_type": "text",
        "id": "4RYUfx0ZoP-u"
      },
      "source": [
        "## **Cluster 3**"
      ]
    },
    {
      "cell_type": "code",
      "metadata": {
        "colab_type": "code",
        "outputId": "e61753d5-0f25-4a20-b168-98a359ccea5c",
        "id": "8UkZdpYhoP-v",
        "colab": {
          "base_uri": "https://localhost:8080/",
          "height": 402
        }
      },
      "source": [
        "temp3 = xyz[xyz['Cluster'] == 2]\n",
        "temp3"
      ],
      "execution_count": 0,
      "outputs": [
        {
          "output_type": "execute_result",
          "data": {
            "text/html": [
              "<div>\n",
              "<style scoped>\n",
              "    .dataframe tbody tr th:only-of-type {\n",
              "        vertical-align: middle;\n",
              "    }\n",
              "\n",
              "    .dataframe tbody tr th {\n",
              "        vertical-align: top;\n",
              "    }\n",
              "\n",
              "    .dataframe thead th {\n",
              "        text-align: right;\n",
              "    }\n",
              "</style>\n",
              "<table border=\"1\" class=\"dataframe\">\n",
              "  <thead>\n",
              "    <tr style=\"text-align: right;\">\n",
              "      <th></th>\n",
              "      <th>userId</th>\n",
              "      <th>Cluster</th>\n",
              "    </tr>\n",
              "  </thead>\n",
              "  <tbody>\n",
              "    <tr>\n",
              "      <th>14</th>\n",
              "      <td>803</td>\n",
              "      <td>2</td>\n",
              "    </tr>\n",
              "    <tr>\n",
              "      <th>16</th>\n",
              "      <td>847</td>\n",
              "      <td>2</td>\n",
              "    </tr>\n",
              "    <tr>\n",
              "      <th>33</th>\n",
              "      <td>1748</td>\n",
              "      <td>2</td>\n",
              "    </tr>\n",
              "    <tr>\n",
              "      <th>36</th>\n",
              "      <td>1831</td>\n",
              "      <td>2</td>\n",
              "    </tr>\n",
              "    <tr>\n",
              "      <th>44</th>\n",
              "      <td>1977</td>\n",
              "      <td>2</td>\n",
              "    </tr>\n",
              "    <tr>\n",
              "      <th>...</th>\n",
              "      <td>...</td>\n",
              "      <td>...</td>\n",
              "    </tr>\n",
              "    <tr>\n",
              "      <th>4047</th>\n",
              "      <td>159816</td>\n",
              "      <td>2</td>\n",
              "    </tr>\n",
              "    <tr>\n",
              "      <th>4056</th>\n",
              "      <td>160219</td>\n",
              "      <td>2</td>\n",
              "    </tr>\n",
              "    <tr>\n",
              "      <th>4062</th>\n",
              "      <td>160540</td>\n",
              "      <td>2</td>\n",
              "    </tr>\n",
              "    <tr>\n",
              "      <th>4094</th>\n",
              "      <td>162271</td>\n",
              "      <td>2</td>\n",
              "    </tr>\n",
              "    <tr>\n",
              "      <th>4104</th>\n",
              "      <td>162516</td>\n",
              "      <td>2</td>\n",
              "    </tr>\n",
              "  </tbody>\n",
              "</table>\n",
              "<p>262 rows × 2 columns</p>\n",
              "</div>"
            ],
            "text/plain": [
              "      userId  Cluster\n",
              "14       803        2\n",
              "16       847        2\n",
              "33      1748        2\n",
              "36      1831        2\n",
              "44      1977        2\n",
              "...      ...      ...\n",
              "4047  159816        2\n",
              "4056  160219        2\n",
              "4062  160540        2\n",
              "4094  162271        2\n",
              "4104  162516        2\n",
              "\n",
              "[262 rows x 2 columns]"
            ]
          },
          "metadata": {
            "tags": []
          },
          "execution_count": 46
        }
      ]
    },
    {
      "cell_type": "code",
      "metadata": {
        "colab_type": "code",
        "id": "bQJ_rChOoP-w",
        "colab": {}
      },
      "source": [
        "cluster_3 = pd.merge(ratings, temp3, left_on = 'userId', right_on = 'userId')"
      ],
      "execution_count": 0,
      "outputs": []
    },
    {
      "cell_type": "code",
      "metadata": {
        "colab_type": "code",
        "id": "zAchMZ44oP-x",
        "colab": {}
      },
      "source": [
        "cluster_3.drop(columns = ['Cluster', 'timestamp'], inplace = True)"
      ],
      "execution_count": 0,
      "outputs": []
    },
    {
      "cell_type": "code",
      "metadata": {
        "colab_type": "code",
        "id": "x_FMxXmBQ9oS",
        "colab": {}
      },
      "source": [
        "cluster_3=pd.DataFrame(cluster_3.groupby(['movieId', 'count_num']).agg(count_rate=pd.NamedAgg(column='rating', aggfunc='mean')))"
      ],
      "execution_count": 0,
      "outputs": []
    },
    {
      "cell_type": "code",
      "metadata": {
        "id": "HHhWYA0ekotd",
        "colab_type": "code",
        "colab": {}
      },
      "source": [
        "cluster_3 = cluster_3.reset_index()"
      ],
      "execution_count": 0,
      "outputs": []
    },
    {
      "cell_type": "code",
      "metadata": {
        "id": "lIKXgmHUXgik",
        "colab_type": "code",
        "outputId": "d7d5360b-87e6-4776-a2ca-f6d8179c2a6e",
        "colab": {
          "base_uri": "https://localhost:8080/",
          "height": 402
        }
      },
      "source": [
        "cluster_3"
      ],
      "execution_count": 0,
      "outputs": [
        {
          "output_type": "execute_result",
          "data": {
            "text/html": [
              "<div>\n",
              "<style scoped>\n",
              "    .dataframe tbody tr th:only-of-type {\n",
              "        vertical-align: middle;\n",
              "    }\n",
              "\n",
              "    .dataframe tbody tr th {\n",
              "        vertical-align: top;\n",
              "    }\n",
              "\n",
              "    .dataframe thead th {\n",
              "        text-align: right;\n",
              "    }\n",
              "</style>\n",
              "<table border=\"1\" class=\"dataframe\">\n",
              "  <thead>\n",
              "    <tr style=\"text-align: right;\">\n",
              "      <th></th>\n",
              "      <th>movieId</th>\n",
              "      <th>count_num</th>\n",
              "      <th>count_rate</th>\n",
              "    </tr>\n",
              "  </thead>\n",
              "  <tbody>\n",
              "    <tr>\n",
              "      <th>0</th>\n",
              "      <td>1</td>\n",
              "      <td>57309</td>\n",
              "      <td>4.128099</td>\n",
              "    </tr>\n",
              "    <tr>\n",
              "      <th>1</th>\n",
              "      <td>2</td>\n",
              "      <td>24228</td>\n",
              "      <td>3.036810</td>\n",
              "    </tr>\n",
              "    <tr>\n",
              "      <th>2</th>\n",
              "      <td>3</td>\n",
              "      <td>11804</td>\n",
              "      <td>2.915842</td>\n",
              "    </tr>\n",
              "    <tr>\n",
              "      <th>3</th>\n",
              "      <td>4</td>\n",
              "      <td>2523</td>\n",
              "      <td>2.546512</td>\n",
              "    </tr>\n",
              "    <tr>\n",
              "      <th>4</th>\n",
              "      <td>5</td>\n",
              "      <td>11714</td>\n",
              "      <td>2.813131</td>\n",
              "    </tr>\n",
              "    <tr>\n",
              "      <th>...</th>\n",
              "      <td>...</td>\n",
              "      <td>...</td>\n",
              "      <td>...</td>\n",
              "    </tr>\n",
              "    <tr>\n",
              "      <th>42186</th>\n",
              "      <td>208939</td>\n",
              "      <td>8</td>\n",
              "      <td>4.000000</td>\n",
              "    </tr>\n",
              "    <tr>\n",
              "      <th>42187</th>\n",
              "      <td>209049</td>\n",
              "      <td>1</td>\n",
              "      <td>4.500000</td>\n",
              "    </tr>\n",
              "    <tr>\n",
              "      <th>42188</th>\n",
              "      <td>209051</td>\n",
              "      <td>1</td>\n",
              "      <td>3.500000</td>\n",
              "    </tr>\n",
              "    <tr>\n",
              "      <th>42189</th>\n",
              "      <td>209121</td>\n",
              "      <td>1</td>\n",
              "      <td>4.000000</td>\n",
              "    </tr>\n",
              "    <tr>\n",
              "      <th>42190</th>\n",
              "      <td>209147</td>\n",
              "      <td>2</td>\n",
              "      <td>3.500000</td>\n",
              "    </tr>\n",
              "  </tbody>\n",
              "</table>\n",
              "<p>42191 rows × 3 columns</p>\n",
              "</div>"
            ],
            "text/plain": [
              "       movieId  count_num  count_rate\n",
              "0            1      57309    4.128099\n",
              "1            2      24228    3.036810\n",
              "2            3      11804    2.915842\n",
              "3            4       2523    2.546512\n",
              "4            5      11714    2.813131\n",
              "...        ...        ...         ...\n",
              "42186   208939          8    4.000000\n",
              "42187   209049          1    4.500000\n",
              "42188   209051          1    3.500000\n",
              "42189   209121          1    4.000000\n",
              "42190   209147          2    3.500000\n",
              "\n",
              "[42191 rows x 3 columns]"
            ]
          },
          "metadata": {
            "tags": []
          },
          "execution_count": 117
        }
      ]
    },
    {
      "cell_type": "markdown",
      "metadata": {
        "colab_type": "text",
        "id": "olgjAviyoRSN"
      },
      "source": [
        "## **Cluster 4**"
      ]
    },
    {
      "cell_type": "code",
      "metadata": {
        "colab_type": "code",
        "outputId": "f6d2c6cf-4b2e-427b-d5c1-616608cdef9a",
        "id": "bj5dkSZKoRSN",
        "colab": {
          "base_uri": "https://localhost:8080/",
          "height": 402
        }
      },
      "source": [
        "temp4 = xyz[xyz['Cluster'] == 3]\n",
        "temp4"
      ],
      "execution_count": 0,
      "outputs": [
        {
          "output_type": "execute_result",
          "data": {
            "text/html": [
              "<div>\n",
              "<style scoped>\n",
              "    .dataframe tbody tr th:only-of-type {\n",
              "        vertical-align: middle;\n",
              "    }\n",
              "\n",
              "    .dataframe tbody tr th {\n",
              "        vertical-align: top;\n",
              "    }\n",
              "\n",
              "    .dataframe thead th {\n",
              "        text-align: right;\n",
              "    }\n",
              "</style>\n",
              "<table border=\"1\" class=\"dataframe\">\n",
              "  <thead>\n",
              "    <tr style=\"text-align: right;\">\n",
              "      <th></th>\n",
              "      <th>userId</th>\n",
              "      <th>Cluster</th>\n",
              "    </tr>\n",
              "  </thead>\n",
              "  <tbody>\n",
              "    <tr>\n",
              "      <th>0</th>\n",
              "      <td>3</td>\n",
              "      <td>3</td>\n",
              "    </tr>\n",
              "    <tr>\n",
              "      <th>15</th>\n",
              "      <td>815</td>\n",
              "      <td>3</td>\n",
              "    </tr>\n",
              "    <tr>\n",
              "      <th>25</th>\n",
              "      <td>1232</td>\n",
              "      <td>3</td>\n",
              "    </tr>\n",
              "    <tr>\n",
              "      <th>39</th>\n",
              "      <td>1881</td>\n",
              "      <td>3</td>\n",
              "    </tr>\n",
              "    <tr>\n",
              "      <th>50</th>\n",
              "      <td>2375</td>\n",
              "      <td>3</td>\n",
              "    </tr>\n",
              "    <tr>\n",
              "      <th>...</th>\n",
              "      <td>...</td>\n",
              "      <td>...</td>\n",
              "    </tr>\n",
              "    <tr>\n",
              "      <th>4080</th>\n",
              "      <td>161342</td>\n",
              "      <td>3</td>\n",
              "    </tr>\n",
              "    <tr>\n",
              "      <th>4084</th>\n",
              "      <td>161560</td>\n",
              "      <td>3</td>\n",
              "    </tr>\n",
              "    <tr>\n",
              "      <th>4096</th>\n",
              "      <td>162326</td>\n",
              "      <td>3</td>\n",
              "    </tr>\n",
              "    <tr>\n",
              "      <th>4097</th>\n",
              "      <td>162334</td>\n",
              "      <td>3</td>\n",
              "    </tr>\n",
              "    <tr>\n",
              "      <th>4105</th>\n",
              "      <td>162521</td>\n",
              "      <td>3</td>\n",
              "    </tr>\n",
              "  </tbody>\n",
              "</table>\n",
              "<p>591 rows × 2 columns</p>\n",
              "</div>"
            ],
            "text/plain": [
              "      userId  Cluster\n",
              "0          3        3\n",
              "15       815        3\n",
              "25      1232        3\n",
              "39      1881        3\n",
              "50      2375        3\n",
              "...      ...      ...\n",
              "4080  161342        3\n",
              "4084  161560        3\n",
              "4096  162326        3\n",
              "4097  162334        3\n",
              "4105  162521        3\n",
              "\n",
              "[591 rows x 2 columns]"
            ]
          },
          "metadata": {
            "tags": []
          },
          "execution_count": 51
        }
      ]
    },
    {
      "cell_type": "code",
      "metadata": {
        "colab_type": "code",
        "id": "2wvrG1YooRSP",
        "colab": {}
      },
      "source": [
        "cluster_4 = pd.merge(ratings, temp4, left_on = 'userId', right_on = 'userId')"
      ],
      "execution_count": 0,
      "outputs": []
    },
    {
      "cell_type": "code",
      "metadata": {
        "colab_type": "code",
        "id": "wNOQdab5oRSQ",
        "colab": {}
      },
      "source": [
        "cluster_4.drop(columns = ['Cluster', 'timestamp'], inplace = True)"
      ],
      "execution_count": 0,
      "outputs": []
    },
    {
      "cell_type": "code",
      "metadata": {
        "colab_type": "code",
        "id": "79yCPEx5Q-yu",
        "colab": {}
      },
      "source": [
        "cluster_4=pd.DataFrame(cluster_4.groupby(['movieId', 'count_num']).agg(count_rate=pd.NamedAgg(column='rating', aggfunc='mean')))"
      ],
      "execution_count": 0,
      "outputs": []
    },
    {
      "cell_type": "code",
      "metadata": {
        "id": "wTiwyowQkuLv",
        "colab_type": "code",
        "colab": {}
      },
      "source": [
        "cluster_4 = cluster_4.reset_index()"
      ],
      "execution_count": 0,
      "outputs": []
    },
    {
      "cell_type": "code",
      "metadata": {
        "id": "vZ6gMjVxXc_1",
        "colab_type": "code",
        "outputId": "8fe2e7c5-7da5-4930-8998-ace48a3e2531",
        "colab": {
          "base_uri": "https://localhost:8080/",
          "height": 402
        }
      },
      "source": [
        "cluster_4"
      ],
      "execution_count": 0,
      "outputs": [
        {
          "output_type": "execute_result",
          "data": {
            "text/html": [
              "<div>\n",
              "<style scoped>\n",
              "    .dataframe tbody tr th:only-of-type {\n",
              "        vertical-align: middle;\n",
              "    }\n",
              "\n",
              "    .dataframe tbody tr th {\n",
              "        vertical-align: top;\n",
              "    }\n",
              "\n",
              "    .dataframe thead th {\n",
              "        text-align: right;\n",
              "    }\n",
              "</style>\n",
              "<table border=\"1\" class=\"dataframe\">\n",
              "  <thead>\n",
              "    <tr style=\"text-align: right;\">\n",
              "      <th></th>\n",
              "      <th>movieId</th>\n",
              "      <th>count_num</th>\n",
              "      <th>count_rate</th>\n",
              "    </tr>\n",
              "  </thead>\n",
              "  <tbody>\n",
              "    <tr>\n",
              "      <th>0</th>\n",
              "      <td>1</td>\n",
              "      <td>57309</td>\n",
              "      <td>3.882474</td>\n",
              "    </tr>\n",
              "    <tr>\n",
              "      <th>1</th>\n",
              "      <td>2</td>\n",
              "      <td>24228</td>\n",
              "      <td>3.332845</td>\n",
              "    </tr>\n",
              "    <tr>\n",
              "      <th>2</th>\n",
              "      <td>3</td>\n",
              "      <td>11804</td>\n",
              "      <td>3.400000</td>\n",
              "    </tr>\n",
              "    <tr>\n",
              "      <th>3</th>\n",
              "      <td>4</td>\n",
              "      <td>2523</td>\n",
              "      <td>1.000000</td>\n",
              "    </tr>\n",
              "    <tr>\n",
              "      <th>4</th>\n",
              "      <td>5</td>\n",
              "      <td>11714</td>\n",
              "      <td>2.861111</td>\n",
              "    </tr>\n",
              "    <tr>\n",
              "      <th>...</th>\n",
              "      <td>...</td>\n",
              "      <td>...</td>\n",
              "      <td>...</td>\n",
              "    </tr>\n",
              "    <tr>\n",
              "      <th>17948</th>\n",
              "      <td>208905</td>\n",
              "      <td>1</td>\n",
              "      <td>2.000000</td>\n",
              "    </tr>\n",
              "    <tr>\n",
              "      <th>17949</th>\n",
              "      <td>208907</td>\n",
              "      <td>1</td>\n",
              "      <td>1.000000</td>\n",
              "    </tr>\n",
              "    <tr>\n",
              "      <th>17950</th>\n",
              "      <td>208909</td>\n",
              "      <td>1</td>\n",
              "      <td>2.000000</td>\n",
              "    </tr>\n",
              "    <tr>\n",
              "      <th>17951</th>\n",
              "      <td>208911</td>\n",
              "      <td>1</td>\n",
              "      <td>4.000000</td>\n",
              "    </tr>\n",
              "    <tr>\n",
              "      <th>17952</th>\n",
              "      <td>208939</td>\n",
              "      <td>8</td>\n",
              "      <td>3.000000</td>\n",
              "    </tr>\n",
              "  </tbody>\n",
              "</table>\n",
              "<p>17953 rows × 3 columns</p>\n",
              "</div>"
            ],
            "text/plain": [
              "       movieId  count_num  count_rate\n",
              "0            1      57309    3.882474\n",
              "1            2      24228    3.332845\n",
              "2            3      11804    3.400000\n",
              "3            4       2523    1.000000\n",
              "4            5      11714    2.861111\n",
              "...        ...        ...         ...\n",
              "17948   208905          1    2.000000\n",
              "17949   208907          1    1.000000\n",
              "17950   208909          1    2.000000\n",
              "17951   208911          1    4.000000\n",
              "17952   208939          8    3.000000\n",
              "\n",
              "[17953 rows x 3 columns]"
            ]
          },
          "metadata": {
            "tags": []
          },
          "execution_count": 116
        }
      ]
    },
    {
      "cell_type": "markdown",
      "metadata": {
        "id": "qn4h3FGSBxrN",
        "colab_type": "text"
      },
      "source": [
        "## **Results**"
      ]
    },
    {
      "cell_type": "code",
      "metadata": {
        "id": "-bsDS9xDzhum",
        "colab_type": "code",
        "colab": {}
      },
      "source": [
        "test_25 = test_25[test_25['userId'].isin(xyz.userId.tolist())]"
      ],
      "execution_count": 0,
      "outputs": []
    },
    {
      "cell_type": "code",
      "metadata": {
        "id": "lrZFaoDNzpBF",
        "colab_type": "code",
        "colab": {}
      },
      "source": [
        "test_25 = pd.DataFrame(test_25.groupby(['userId'])['movieId'].unique())"
      ],
      "execution_count": 0,
      "outputs": []
    },
    {
      "cell_type": "code",
      "metadata": {
        "id": "DoF--FG31gz9",
        "colab_type": "code",
        "colab": {}
      },
      "source": [
        "test_25 = test_25.reset_index()"
      ],
      "execution_count": 0,
      "outputs": []
    },
    {
      "cell_type": "code",
      "metadata": {
        "id": "qI4d1p9lz_vs",
        "colab_type": "code",
        "colab": {}
      },
      "source": [
        "test_25 = pd.merge(test_25, xyz, on = 'userId')"
      ],
      "execution_count": 0,
      "outputs": []
    },
    {
      "cell_type": "markdown",
      "metadata": {
        "id": "rJ0TyOWxHCbq",
        "colab_type": "text"
      },
      "source": [
        "## **Cross Validation**"
      ]
    },
    {
      "cell_type": "code",
      "metadata": {
        "id": "53NggpLx0Lff",
        "colab_type": "code",
        "colab": {}
      },
      "source": [
        "mean_dict = {}\n",
        "for k in range(2000, 4501, 200):\n",
        "  for j in range(2000, 3001, 100):\n",
        "    cluster_1_movies = (cluster_1[cluster_1['count_num'] > k].nlargest(j, 'count_rate')).movieId.tolist()\n",
        "    cluster_2_movies = (cluster_2[cluster_2['count_num'] > k].nlargest(j, 'count_rate')).movieId.tolist()\n",
        "    cluster_3_movies = (cluster_3[cluster_3['count_num'] > k].nlargest(j, 'count_rate')).movieId.tolist()\n",
        "    cluster_4_movies = (cluster_4[cluster_4['count_num'] > k].nlargest(j, 'count_rate')).movieId.tolist()\n",
        "    movie_dict = {0 : cluster_1_movies, 1 : cluster_2_movies, 2 : cluster_3_movies, 3 : cluster_4_movies}\n",
        "    test_25['moviesPredicted'] = test_25['Cluster'].apply(lambda x : movie_dict[x])\n",
        "    test_25['correctPredictions'] = 0\n",
        "    test_25['recall'] = 0.0\n",
        "    for i in test_25.index:\n",
        "      test_25.loc[i, 'correctPredictions'] = len(set(test_25.iloc[i]['movieId']).intersection(set(test_25.iloc[i]['moviesPredicted'])))\n",
        "    for i in test_25.index:\n",
        "      test_25.loc[i, 'recall'] = round(float(test_25.iloc[i]['correctPredictions'])/float(len(test_25.iloc[i]['movieId'])), 2)\n",
        "    mean_dict[(k, j)] = test_25.describe()['recall']['mean']"
      ],
      "execution_count": 0,
      "outputs": []
    },
    {
      "cell_type": "code",
      "metadata": {
        "id": "xl1biCAC6gp8",
        "colab_type": "code",
        "outputId": "0dcc552d-d4cd-4ecc-b839-be5ddbd75d5b",
        "colab": {
          "base_uri": "https://localhost:8080/",
          "height": 1000
        }
      },
      "source": [
        "mean_dict"
      ],
      "execution_count": 0,
      "outputs": [
        {
          "output_type": "execute_result",
          "data": {
            "text/plain": [
              "{(2000, 2000): 0.5985776911836328,\n",
              " (2000, 2100): 0.6132001948368235,\n",
              " (2000, 2200): 0.6235289819775947,\n",
              " (2000, 2300): 0.6349342425718466,\n",
              " (2000, 2400): 0.6430418899171939,\n",
              " (2000, 2500): 0.6445908426692645,\n",
              " (2000, 2600): 0.6445908426692645,\n",
              " (2000, 2700): 0.6445908426692645,\n",
              " (2000, 2800): 0.6445908426692645,\n",
              " (2000, 2900): 0.6445908426692645,\n",
              " (2000, 3000): 0.6445908426692645,\n",
              " (2200, 2000): 0.6003336580613732,\n",
              " (2200, 2100): 0.6118631271310283,\n",
              " (2200, 2200): 0.6225085241110572,\n",
              " (2200, 2300): 0.6292425718460791,\n",
              " (2200, 2400): 0.6292425718460791,\n",
              " (2200, 2500): 0.6292425718460791,\n",
              " (2200, 2600): 0.6292425718460791,\n",
              " (2200, 2700): 0.6292425718460791,\n",
              " (2200, 2800): 0.6292425718460791,\n",
              " (2200, 2900): 0.6292425718460791,\n",
              " (2200, 3000): 0.6292425718460791,\n",
              " (2400, 2000): 0.5983999025815878,\n",
              " (2400, 2100): 0.6092985874330248,\n",
              " (2400, 2200): 0.6146809547004375,\n",
              " (2400, 2300): 0.6146809547004375,\n",
              " (2400, 2400): 0.6146809547004375,\n",
              " (2400, 2500): 0.6146809547004375,\n",
              " (2400, 2600): 0.6146809547004375,\n",
              " (2400, 2700): 0.6146809547004375,\n",
              " (2400, 2800): 0.6146809547004375,\n",
              " (2400, 2900): 0.6146809547004375,\n",
              " (2400, 3000): 0.6146809547004375,\n",
              " (2600, 2000): 0.6002581587920112,\n",
              " (2600, 2100): 0.6057111544081826,\n",
              " (2600, 2200): 0.6057111544081826,\n",
              " (2600, 2300): 0.6057111544081826,\n",
              " (2600, 2400): 0.6057111544081826,\n",
              " (2600, 2500): 0.6057111544081826,\n",
              " (2600, 2600): 0.6057111544081826,\n",
              " (2600, 2700): 0.6057111544081826,\n",
              " (2600, 2800): 0.6057111544081826,\n",
              " (2600, 2900): 0.6057111544081826,\n",
              " (2600, 3000): 0.6057111544081826,\n",
              " (2800, 2000): 0.5882878714076967,\n",
              " (2800, 2100): 0.5882878714076967,\n",
              " (2800, 2200): 0.5882878714076967,\n",
              " (2800, 2300): 0.5882878714076967,\n",
              " (2800, 2400): 0.5882878714076967,\n",
              " (2800, 2500): 0.5882878714076967,\n",
              " (2800, 2600): 0.5882878714076967,\n",
              " (2800, 2700): 0.5882878714076967,\n",
              " (2800, 2800): 0.5882878714076967,\n",
              " (2800, 2900): 0.5882878714076967,\n",
              " (2800, 3000): 0.5882878714076967,\n",
              " (3000, 2000): 0.5704797856794955,\n",
              " (3000, 2100): 0.5704797856794955,\n",
              " (3000, 2200): 0.5704797856794955,\n",
              " (3000, 2300): 0.5704797856794955,\n",
              " (3000, 2400): 0.5704797856794955,\n",
              " (3000, 2500): 0.5704797856794955,\n",
              " (3000, 2600): 0.5704797856794955,\n",
              " (3000, 2700): 0.5704797856794955,\n",
              " (3000, 2800): 0.5704797856794955,\n",
              " (3000, 2900): 0.5704797856794955,\n",
              " (3000, 3000): 0.5704797856794955,\n",
              " (3200, 2000): 0.5589527520701423,\n",
              " (3200, 2100): 0.5589527520701423,\n",
              " (3200, 2200): 0.5589527520701423,\n",
              " (3200, 2300): 0.5589527520701423,\n",
              " (3200, 2400): 0.5589527520701423,\n",
              " (3200, 2500): 0.5589527520701423,\n",
              " (3200, 2600): 0.5589527520701423,\n",
              " (3200, 2700): 0.5589527520701423,\n",
              " (3200, 2800): 0.5589527520701423,\n",
              " (3200, 2900): 0.5589527520701423,\n",
              " (3200, 3000): 0.5589527520701423,\n",
              " (3400, 2000): 0.5470214320506585,\n",
              " (3400, 2100): 0.5470214320506585,\n",
              " (3400, 2200): 0.5470214320506585,\n",
              " (3400, 2300): 0.5470214320506585,\n",
              " (3400, 2400): 0.5470214320506585,\n",
              " (3400, 2500): 0.5470214320506585,\n",
              " (3400, 2600): 0.5470214320506585,\n",
              " (3400, 2700): 0.5470214320506585,\n",
              " (3400, 2800): 0.5470214320506585,\n",
              " (3400, 2900): 0.5470214320506585,\n",
              " (3400, 3000): 0.5470214320506585,\n",
              " (3600, 2000): 0.5372187043351202,\n",
              " (3600, 2100): 0.5372187043351202,\n",
              " (3600, 2200): 0.5372187043351202,\n",
              " (3600, 2300): 0.5372187043351202,\n",
              " (3600, 2400): 0.5372187043351202,\n",
              " (3600, 2500): 0.5372187043351202,\n",
              " (3600, 2600): 0.5372187043351202,\n",
              " (3600, 2700): 0.5372187043351202,\n",
              " (3600, 2800): 0.5372187043351202,\n",
              " (3600, 2900): 0.5372187043351202,\n",
              " (3600, 3000): 0.5372187043351202,\n",
              " (3800, 2000): 0.5218460789089168,\n",
              " (3800, 2100): 0.5218460789089168,\n",
              " (3800, 2200): 0.5218460789089168,\n",
              " (3800, 2300): 0.5218460789089168,\n",
              " (3800, 2400): 0.5218460789089168,\n",
              " (3800, 2500): 0.5218460789089168,\n",
              " (3800, 2600): 0.5218460789089168,\n",
              " (3800, 2700): 0.5218460789089168,\n",
              " (3800, 2800): 0.5218460789089168,\n",
              " (3800, 2900): 0.5218460789089168,\n",
              " (3800, 3000): 0.5218460789089168,\n",
              " (4000, 2000): 0.5092157817827583,\n",
              " (4000, 2100): 0.5092157817827583,\n",
              " (4000, 2200): 0.5092157817827583,\n",
              " (4000, 2300): 0.5092157817827583,\n",
              " (4000, 2400): 0.5092157817827583,\n",
              " (4000, 2500): 0.5092157817827583,\n",
              " (4000, 2600): 0.5092157817827583,\n",
              " (4000, 2700): 0.5092157817827583,\n",
              " (4000, 2800): 0.5092157817827583,\n",
              " (4000, 2900): 0.5092157817827583,\n",
              " (4000, 3000): 0.5092157817827583,\n",
              " (4200, 2000): 0.4943960058451058,\n",
              " (4200, 2100): 0.4943960058451058,\n",
              " (4200, 2200): 0.4943960058451058,\n",
              " (4200, 2300): 0.4943960058451058,\n",
              " (4200, 2400): 0.4943960058451058,\n",
              " (4200, 2500): 0.4943960058451058,\n",
              " (4200, 2600): 0.4943960058451058,\n",
              " (4200, 2700): 0.4943960058451058,\n",
              " (4200, 2800): 0.4943960058451058,\n",
              " (4200, 2900): 0.4943960058451058,\n",
              " (4200, 3000): 0.4943960058451058,\n",
              " (4400, 2000): 0.4836824159766199,\n",
              " (4400, 2100): 0.4836824159766199,\n",
              " (4400, 2200): 0.4836824159766199,\n",
              " (4400, 2300): 0.4836824159766199,\n",
              " (4400, 2400): 0.4836824159766199,\n",
              " (4400, 2500): 0.4836824159766199,\n",
              " (4400, 2600): 0.4836824159766199,\n",
              " (4400, 2700): 0.4836824159766199,\n",
              " (4400, 2800): 0.4836824159766199,\n",
              " (4400, 2900): 0.4836824159766199,\n",
              " (4400, 3000): 0.4836824159766199}"
            ]
          },
          "metadata": {
            "tags": []
          },
          "execution_count": 121
        }
      ]
    },
    {
      "cell_type": "code",
      "metadata": {
        "id": "XzFCy3GQHF6j",
        "colab_type": "code",
        "colab": {}
      },
      "source": [
        "  cluster_1_movies = (cluster_1[cluster_1['count_num'] > 2000].nlargest(2500, 'count_rate')).movieId.tolist()\n",
        "  cluster_2_movies = (cluster_2[cluster_2['count_num'] > 2000].nlargest(2500, 'count_rate')).movieId.tolist()\n",
        "  cluster_3_movies = (cluster_3[cluster_3['count_num'] > 2000].nlargest(2500, 'count_rate')).movieId.tolist()\n",
        "  cluster_4_movies = (cluster_4[cluster_4['count_num'] > 2000].nlargest(2500, 'count_rate')).movieId.tolist()\n",
        "  movie_dict = {0 : cluster_1_movies, 1 : cluster_2_movies, 2 : cluster_3_movies, 3 : cluster_4_movies}\n",
        "  test_25['moviesPredicted'] = test_25['Cluster'].apply(lambda x : movie_dict[x])\n",
        "  test_25['correctPredictions'] = 0\n",
        "  test_25['recall'] = 0.0\n",
        "  for i in test_25.index:\n",
        "    test_25.loc[i, 'correctPredictions'] = len(set(test_25.iloc[i]['movieId']).intersection(set(test_25.iloc[i]['moviesPredicted'])))\n",
        "  for i in test_25.index:\n",
        "    test_25.loc[i, 'recall'] = round(float(test_25.iloc[i]['correctPredictions'])/float(len(test_25.iloc[i]['movieId'])), 2)"
      ],
      "execution_count": 0,
      "outputs": []
    },
    {
      "cell_type": "code",
      "metadata": {
        "id": "3huIboB961GH",
        "colab_type": "code",
        "outputId": "fbe488b6-9c53-43b4-de25-3ff60827b4ab",
        "colab": {
          "base_uri": "https://localhost:8080/",
          "height": 402
        }
      },
      "source": [
        "test_25"
      ],
      "execution_count": 0,
      "outputs": [
        {
          "output_type": "execute_result",
          "data": {
            "text/html": [
              "<div>\n",
              "<style scoped>\n",
              "    .dataframe tbody tr th:only-of-type {\n",
              "        vertical-align: middle;\n",
              "    }\n",
              "\n",
              "    .dataframe tbody tr th {\n",
              "        vertical-align: top;\n",
              "    }\n",
              "\n",
              "    .dataframe thead th {\n",
              "        text-align: right;\n",
              "    }\n",
              "</style>\n",
              "<table border=\"1\" class=\"dataframe\">\n",
              "  <thead>\n",
              "    <tr style=\"text-align: right;\">\n",
              "      <th></th>\n",
              "      <th>userId</th>\n",
              "      <th>movieId</th>\n",
              "      <th>Cluster</th>\n",
              "      <th>moviesPredicted</th>\n",
              "      <th>correctPredictions</th>\n",
              "      <th>recall</th>\n",
              "    </tr>\n",
              "  </thead>\n",
              "  <tbody>\n",
              "    <tr>\n",
              "      <th>0</th>\n",
              "      <td>3</td>\n",
              "      <td>[6711, 8360, 3948, 5574, 6879, 7143, 29, 111, ...</td>\n",
              "      <td>3</td>\n",
              "      <td>[2111, 663, 318, 2677, 2959, 2571, 58559, 1694...</td>\n",
              "      <td>165</td>\n",
              "      <td>0.72</td>\n",
              "    </tr>\n",
              "    <tr>\n",
              "      <th>1</th>\n",
              "      <td>19</td>\n",
              "      <td>[296, 1722, 1907, 2273, 2294, 293, 3328, 31878...</td>\n",
              "      <td>0</td>\n",
              "      <td>[318, 1203, 2959, 195159, 44555, 296, 7156, 85...</td>\n",
              "      <td>20</td>\n",
              "      <td>0.42</td>\n",
              "    </tr>\n",
              "    <tr>\n",
              "      <th>2</th>\n",
              "      <td>187</td>\n",
              "      <td>[1909, 109487, 122886, 134130, 152081, 165483,...</td>\n",
              "      <td>1</td>\n",
              "      <td>[318, 858, 1203, 296, 1221, 2959, 1201, 1193, ...</td>\n",
              "      <td>5</td>\n",
              "      <td>0.71</td>\n",
              "    </tr>\n",
              "    <tr>\n",
              "      <th>3</th>\n",
              "      <td>284</td>\n",
              "      <td>[3949, 7361, 8360, 8873, 527, 1080, 1201, 1584...</td>\n",
              "      <td>0</td>\n",
              "      <td>[318, 1203, 2959, 195159, 44555, 296, 7156, 85...</td>\n",
              "      <td>168</td>\n",
              "      <td>0.84</td>\n",
              "    </tr>\n",
              "    <tr>\n",
              "      <th>4</th>\n",
              "      <td>357</td>\n",
              "      <td>[1485, 3300, 4992, 45672, 48780, 51255, 53121,...</td>\n",
              "      <td>0</td>\n",
              "      <td>[318, 1203, 2959, 195159, 44555, 296, 7156, 85...</td>\n",
              "      <td>56</td>\n",
              "      <td>0.49</td>\n",
              "    </tr>\n",
              "    <tr>\n",
              "      <th>...</th>\n",
              "      <td>...</td>\n",
              "      <td>...</td>\n",
              "      <td>...</td>\n",
              "      <td>...</td>\n",
              "      <td>...</td>\n",
              "      <td>...</td>\n",
              "    </tr>\n",
              "    <tr>\n",
              "      <th>4101</th>\n",
              "      <td>162482</td>\n",
              "      <td>[135143, 139385, 148626, 158966, 164179, 16652...</td>\n",
              "      <td>0</td>\n",
              "      <td>[318, 1203, 2959, 195159, 44555, 296, 7156, 85...</td>\n",
              "      <td>9</td>\n",
              "      <td>0.60</td>\n",
              "    </tr>\n",
              "    <tr>\n",
              "      <th>4102</th>\n",
              "      <td>162498</td>\n",
              "      <td>[63876, 1104, 87522, 72949, 90592]</td>\n",
              "      <td>0</td>\n",
              "      <td>[318, 1203, 2959, 195159, 44555, 296, 7156, 85...</td>\n",
              "      <td>2</td>\n",
              "      <td>0.40</td>\n",
              "    </tr>\n",
              "    <tr>\n",
              "      <th>4103</th>\n",
              "      <td>162512</td>\n",
              "      <td>[4299, 40815, 1732, 4027, 4344, 4369, 4816, 54...</td>\n",
              "      <td>0</td>\n",
              "      <td>[318, 1203, 2959, 195159, 44555, 296, 7156, 85...</td>\n",
              "      <td>60</td>\n",
              "      <td>0.91</td>\n",
              "    </tr>\n",
              "    <tr>\n",
              "      <th>4104</th>\n",
              "      <td>162516</td>\n",
              "      <td>[6539, 7323, 54648, 59615, 60074, 87430, 89753...</td>\n",
              "      <td>2</td>\n",
              "      <td>[858, 1221, 912, 318, 1198, 527, 1203, 904, 26...</td>\n",
              "      <td>87</td>\n",
              "      <td>0.36</td>\n",
              "    </tr>\n",
              "    <tr>\n",
              "      <th>4105</th>\n",
              "      <td>162521</td>\n",
              "      <td>[66097, 86332, 109374, 115617, 122918, 134853,...</td>\n",
              "      <td>3</td>\n",
              "      <td>[2111, 663, 318, 2677, 2959, 2571, 58559, 1694...</td>\n",
              "      <td>9</td>\n",
              "      <td>0.56</td>\n",
              "    </tr>\n",
              "  </tbody>\n",
              "</table>\n",
              "<p>4106 rows × 6 columns</p>\n",
              "</div>"
            ],
            "text/plain": [
              "      userId  ... recall\n",
              "0          3  ...   0.72\n",
              "1         19  ...   0.42\n",
              "2        187  ...   0.71\n",
              "3        284  ...   0.84\n",
              "4        357  ...   0.49\n",
              "...      ...  ...    ...\n",
              "4101  162482  ...   0.60\n",
              "4102  162498  ...   0.40\n",
              "4103  162512  ...   0.91\n",
              "4104  162516  ...   0.36\n",
              "4105  162521  ...   0.56\n",
              "\n",
              "[4106 rows x 6 columns]"
            ]
          },
          "metadata": {
            "tags": []
          },
          "execution_count": 123
        }
      ]
    },
    {
      "cell_type": "code",
      "metadata": {
        "id": "kBwoa4mRL-Hp",
        "colab_type": "code",
        "outputId": "8c977de9-ed73-4d55-b68c-f83223cc7b21",
        "colab": {
          "base_uri": "https://localhost:8080/",
          "height": 284
        }
      },
      "source": [
        "test_25.describe()"
      ],
      "execution_count": 0,
      "outputs": [
        {
          "output_type": "execute_result",
          "data": {
            "text/html": [
              "<div>\n",
              "<style scoped>\n",
              "    .dataframe tbody tr th:only-of-type {\n",
              "        vertical-align: middle;\n",
              "    }\n",
              "\n",
              "    .dataframe tbody tr th {\n",
              "        vertical-align: top;\n",
              "    }\n",
              "\n",
              "    .dataframe thead th {\n",
              "        text-align: right;\n",
              "    }\n",
              "</style>\n",
              "<table border=\"1\" class=\"dataframe\">\n",
              "  <thead>\n",
              "    <tr style=\"text-align: right;\">\n",
              "      <th></th>\n",
              "      <th>userId</th>\n",
              "      <th>Cluster</th>\n",
              "      <th>correctPredictions</th>\n",
              "      <th>recall</th>\n",
              "    </tr>\n",
              "  </thead>\n",
              "  <tbody>\n",
              "    <tr>\n",
              "      <th>count</th>\n",
              "      <td>4106.000000</td>\n",
              "      <td>4106.000000</td>\n",
              "      <td>4106.000000</td>\n",
              "      <td>4106.000000</td>\n",
              "    </tr>\n",
              "    <tr>\n",
              "      <th>mean</th>\n",
              "      <td>80964.650024</td>\n",
              "      <td>0.781783</td>\n",
              "      <td>96.834145</td>\n",
              "      <td>0.644591</td>\n",
              "    </tr>\n",
              "    <tr>\n",
              "      <th>std</th>\n",
              "      <td>46507.980450</td>\n",
              "      <td>1.078014</td>\n",
              "      <td>131.581206</td>\n",
              "      <td>0.233974</td>\n",
              "    </tr>\n",
              "    <tr>\n",
              "      <th>min</th>\n",
              "      <td>3.000000</td>\n",
              "      <td>0.000000</td>\n",
              "      <td>0.000000</td>\n",
              "      <td>0.000000</td>\n",
              "    </tr>\n",
              "    <tr>\n",
              "      <th>25%</th>\n",
              "      <td>40769.000000</td>\n",
              "      <td>0.000000</td>\n",
              "      <td>21.000000</td>\n",
              "      <td>0.480000</td>\n",
              "    </tr>\n",
              "    <tr>\n",
              "      <th>50%</th>\n",
              "      <td>80243.000000</td>\n",
              "      <td>0.000000</td>\n",
              "      <td>55.000000</td>\n",
              "      <td>0.670000</td>\n",
              "    </tr>\n",
              "    <tr>\n",
              "      <th>75%</th>\n",
              "      <td>121489.500000</td>\n",
              "      <td>1.000000</td>\n",
              "      <td>121.000000</td>\n",
              "      <td>0.830000</td>\n",
              "    </tr>\n",
              "    <tr>\n",
              "      <th>max</th>\n",
              "      <td>162521.000000</td>\n",
              "      <td>3.000000</td>\n",
              "      <td>1603.000000</td>\n",
              "      <td>1.000000</td>\n",
              "    </tr>\n",
              "  </tbody>\n",
              "</table>\n",
              "</div>"
            ],
            "text/plain": [
              "              userId      Cluster  correctPredictions       recall\n",
              "count    4106.000000  4106.000000         4106.000000  4106.000000\n",
              "mean    80964.650024     0.781783           96.834145     0.644591\n",
              "std     46507.980450     1.078014          131.581206     0.233974\n",
              "min         3.000000     0.000000            0.000000     0.000000\n",
              "25%     40769.000000     0.000000           21.000000     0.480000\n",
              "50%     80243.000000     0.000000           55.000000     0.670000\n",
              "75%    121489.500000     1.000000          121.000000     0.830000\n",
              "max    162521.000000     3.000000         1603.000000     1.000000"
            ]
          },
          "metadata": {
            "tags": []
          },
          "execution_count": 124
        }
      ]
    },
    {
      "cell_type": "code",
      "metadata": {
        "id": "G7LB-JzON4Yt",
        "colab_type": "code",
        "colab": {}
      },
      "source": [
        ""
      ],
      "execution_count": 0,
      "outputs": []
    }
  ]
}